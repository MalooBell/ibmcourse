{
 "cells": [
  {
   "cell_type": "markdown",
   "id": "bab31101-1397-4f4f-8814-b39c2f6137e2",
   "metadata": {},
   "source": [
    "<h1>Data Science Tools and Ecosystem</h1>"
   ]
  },
  {
   "cell_type": "markdown",
   "id": "8c704584-7760-4dab-86d2-414170d6bb8e",
   "metadata": {},
   "source": [
    "In this notebook, Data Science Tools and Ecosystem are summarized."
   ]
  },
  {
   "cell_type": "markdown",
   "id": "4c082c81-aa0e-46dd-a971-be7020beacda",
   "metadata": {},
   "source": [
    "<h5>Some of the popular languages that Data Scientists use are:<h5> "
   ]
  },
  {
   "cell_type": "markdown",
   "id": "70d6d553-f6ea-4cf1-a537-d1e59cd1ecfd",
   "metadata": {},
   "source": [
    "<p>- python</p>\n",
    "    <p>- R</p>\n",
    "    <p>- Julia</p>\n",
    "    <p>- Matlab</p>"
   ]
  },
  {
   "cell_type": "markdown",
   "id": "e068215d-c23a-4d67-8bd1-3758f93fb327",
   "metadata": {},
   "source": [
    "Some of the commonly used libraries used by Data Scientists include : "
   ]
  },
  {
   "cell_type": "raw",
   "id": "8c5331f2-0851-4ecc-8744-757f2613d485",
   "metadata": {},
   "source": [
    "Caret\n",
    "Scikit-learn\n",
    "pytorch\n",
    "Numpy\n",
    "Pandas"
   ]
  },
  {
   "cell_type": "raw",
   "id": "6261c77f-e38e-42f8-a4eb-ba117b2260fc",
   "metadata": {},
   "source": [
    "header Data Science Tools\n",
    "jupyter notebook\n",
    "jupyter lab\n",
    "rstudio\n",
    "github\n",
    "apache\n",
    "mysql"
   ]
  },
  {
   "cell_type": "markdown",
   "id": "cf3cf009-8ab5-4f67-af5d-2184ba3267f2",
   "metadata": {},
   "source": [
    "<h3>Below are a few examples of evaluating arithmetic expressions in Python</h3>"
   ]
  },
  {
   "cell_type": "code",
   "execution_count": 4,
   "id": "7d0a14b4-57a0-41ff-913f-db1f6b5c2f9c",
   "metadata": {},
   "outputs": [
    {
     "name": "stdout",
     "output_type": "stream",
     "text": [
      "17\n"
     ]
    }
   ],
   "source": [
    "###This a simple arithmetic expression to mutiply then add integers\n",
    "a=(3*4)+5\n",
    "print(a)"
   ]
  },
  {
   "cell_type": "code",
   "execution_count": 5,
   "id": "a858b1ff-4a66-4306-9e1a-bb66d2b4f647",
   "metadata": {},
   "outputs": [
    {
     "name": "stdout",
     "output_type": "stream",
     "text": [
      "3\n"
     ]
    }
   ],
   "source": [
    "###This will convert 200 minutes to hours by diving by 60\n",
    "a=200\n",
    "b=a//60\n",
    "print(b)"
   ]
  },
  {
   "cell_type": "markdown",
   "id": "58991298-2a40-4c2e-85b1-685375810960",
   "metadata": {},
   "source": [
    "<p>Objectives:</p>"
   ]
  },
  {
   "cell_type": "code",
   "execution_count": 6,
   "id": "0394d025-86ad-4a79-b04b-736618f9e093",
   "metadata": {},
   "outputs": [
    {
     "name": "stdout",
     "output_type": "stream",
     "text": [
      "{'intro', 'librairies', 'languages', 'arithmetic', 'tools'}\n"
     ]
    }
   ],
   "source": [
    "list_objectif={\"intro\", \"arithmetic\", \"librairies\", \"languages\", \"tools\"}\n",
    "print(list_objectif)"
   ]
  },
  {
   "cell_type": "markdown",
   "id": "13ba7802-11d1-473f-bf7d-4b36f6057ad9",
   "metadata": {},
   "source": [
    "<h2>MALOO BELL Loïck</h2>"
   ]
  },
  {
   "cell_type": "code",
   "execution_count": null,
   "id": "798b7f2f-a663-4c50-a211-ee624a797a03",
   "metadata": {},
   "outputs": [],
   "source": []
  }
 ],
 "metadata": {
  "kernelspec": {
   "display_name": "Python 3 (ipykernel)",
   "language": "python",
   "name": "python3"
  },
  "language_info": {
   "codemirror_mode": {
    "name": "ipython",
    "version": 3
   },
   "file_extension": ".py",
   "mimetype": "text/x-python",
   "name": "python",
   "nbconvert_exporter": "python",
   "pygments_lexer": "ipython3",
   "version": "3.12.7"
  }
 },
 "nbformat": 4,
 "nbformat_minor": 5
}
