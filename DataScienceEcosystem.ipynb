{
 "cells": [
  {
   "cell_type": "markdown",
   "id": "bab31101-1397-4f4f-8814-b39c2f6137e2",
   "metadata": {},
   "source": [
    "<h1>Data Science Tools and Ecosystem</h1>"
   ]
  },
  {
   "cell_type": "markdown",
   "id": "8c704584-7760-4dab-86d2-414170d6bb8e",
   "metadata": {},
   "source": [
    "In this notebook, Data Science Tools and Ecosystem are summarized."
   ]
  },
  {
   "cell_type": "markdown",
   "id": "4c082c81-aa0e-46dd-a971-be7020beacda",
   "metadata": {},
   "source": [
    "Some of the popular languages that Data Scientists use are: \n",
    "<p>1- python</p>\n",
    "<p>2- sql</p>\n",
    "<p>3- julia</p>\n",
    "<p>4- R</p>"
   ]
  },
  {
   "cell_type": "markdown",
   "id": "70d6d553-f6ea-4cf1-a537-d1e59cd1ecfd",
   "metadata": {},
   "source": []
  },
  {
   "cell_type": "markdown",
   "id": "e068215d-c23a-4d67-8bd1-3758f93fb327",
   "metadata": {},
   "source": [
    "Some of the commonly used libraries used by Data Scientists include :\n",
    "\n",
    "<p>Pandas<p>\n",
    "<p>Numpy<p>\n",
    "<p>Matplotlib<p>\n",
    "<p>Seaborn<p>\n",
    "<p>Caret<p>\n",
    "<p>Scikit-learn<p>"
   ]
  },
  {
   "cell_type": "raw",
   "id": "8c5331f2-0851-4ecc-8744-757f2613d485",
   "metadata": {},
   "source": []
  },
  {
   "cell_type": "code",
   "execution_count": 12,
   "id": "304adf89-b92f-4b63-922a-dd49d5211a30",
   "metadata": {},
   "outputs": [
    {
     "data": {
      "text/html": [
       "<div>\n",
       "<style scoped>\n",
       "    .dataframe tbody tr th:only-of-type {\n",
       "        vertical-align: middle;\n",
       "    }\n",
       "\n",
       "    .dataframe tbody tr th {\n",
       "        vertical-align: top;\n",
       "    }\n",
       "\n",
       "    .dataframe thead th {\n",
       "        text-align: right;\n",
       "    }\n",
       "</style>\n",
       "<table border=\"1\" class=\"dataframe\">\n",
       "  <thead>\n",
       "    <tr style=\"text-align: right;\">\n",
       "      <th></th>\n",
       "      <th>Data Science Tools</th>\n",
       "    </tr>\n",
       "  </thead>\n",
       "  <tbody>\n",
       "    <tr>\n",
       "      <th>0</th>\n",
       "      <td>Anaconda</td>\n",
       "    </tr>\n",
       "    <tr>\n",
       "      <th>1</th>\n",
       "      <td>jupyter notebook</td>\n",
       "    </tr>\n",
       "    <tr>\n",
       "      <th>2</th>\n",
       "      <td>spyder</td>\n",
       "    </tr>\n",
       "    <tr>\n",
       "      <th>3</th>\n",
       "      <td>rstudio</td>\n",
       "    </tr>\n",
       "  </tbody>\n",
       "</table>\n",
       "</div>"
      ],
      "text/plain": [
       "   Data Science Tools\n",
       "0            Anaconda\n",
       "1    jupyter notebook\n",
       "2              spyder\n",
       "3             rstudio"
      ]
     },
     "execution_count": 12,
     "metadata": {},
     "output_type": "execute_result"
    }
   ],
   "source": [
    "import pandas as pd\n",
    "data = {\n",
    "' Data Science Tools' : [\"Anaconda\", \"jupyter notebook\", \"spyder\" , \"rstudio\"]\n",
    "}\n",
    "df = pd.DataFrame(data)\n",
    "df"
   ]
  },
  {
   "cell_type": "markdown",
   "id": "cf3cf009-8ab5-4f67-af5d-2184ba3267f2",
   "metadata": {},
   "source": [
    "<h3>Below are a few examples of evaluating arithmetic expressions in Python</h3>"
   ]
  },
  {
   "cell_type": "code",
   "execution_count": 4,
   "id": "7d0a14b4-57a0-41ff-913f-db1f6b5c2f9c",
   "metadata": {},
   "outputs": [
    {
     "name": "stdout",
     "output_type": "stream",
     "text": [
      "17\n"
     ]
    }
   ],
   "source": [
    "###This a simple arithmetic expression to mutiply then add integers\n",
    "a=(3*4)+5\n",
    "print(a)"
   ]
  },
  {
   "cell_type": "code",
   "execution_count": 7,
   "id": "a858b1ff-4a66-4306-9e1a-bb66d2b4f647",
   "metadata": {},
   "outputs": [
    {
     "name": "stdout",
     "output_type": "stream",
     "text": [
      "3.3333333333333335\n"
     ]
    }
   ],
   "source": [
    "###This will convert 200 minutes to hours by diving by 60\n",
    "a=200\n",
    "b=a/60\n",
    "print(b)"
   ]
  },
  {
   "cell_type": "markdown",
   "id": "58991298-2a40-4c2e-85b1-685375810960",
   "metadata": {},
   "source": [
    "<h5>Objectives:</h5>\n"
   ]
  },
  {
   "cell_type": "code",
   "execution_count": 14,
   "id": "331ab845-fbcb-4d8d-8d94-eab747a728b1",
   "metadata": {},
   "outputs": [
    {
     "name": "stdout",
     "output_type": "stream",
     "text": [
      "Objectives : \n",
      "• Apprendre Python\n",
      "• Utiliser Jupyter\n",
      "• Analyser des données\n"
     ]
    }
   ],
   "source": [
    "ma_liste = [\"Apprendre Python\", \"Utiliser Jupyter\", \"Analyser des données\"]\n",
    "print('Objectives : ')\n",
    "for element in ma_liste:\n",
    "    print(f\"• {element}\") # Ou utilisez un tiret \"- \""
   ]
  },
  {
   "cell_type": "markdown",
   "id": "13ba7802-11d1-473f-bf7d-4b36f6057ad9",
   "metadata": {},
   "source": [
    "<h2>Author(s)</h2>\n",
    "\n",
    "MALOO BELL"
   ]
  },
  {
   "cell_type": "code",
   "execution_count": null,
   "id": "798b7f2f-a663-4c50-a211-ee624a797a03",
   "metadata": {},
   "outputs": [],
   "source": []
  }
 ],
 "metadata": {
  "kernelspec": {
   "display_name": "Python 3 (ipykernel)",
   "language": "python",
   "name": "python3"
  },
  "language_info": {
   "codemirror_mode": {
    "name": "ipython",
    "version": 3
   },
   "file_extension": ".py",
   "mimetype": "text/x-python",
   "name": "python",
   "nbconvert_exporter": "python",
   "pygments_lexer": "ipython3",
   "version": "3.12.7"
  }
 },
 "nbformat": 4,
 "nbformat_minor": 5
}
